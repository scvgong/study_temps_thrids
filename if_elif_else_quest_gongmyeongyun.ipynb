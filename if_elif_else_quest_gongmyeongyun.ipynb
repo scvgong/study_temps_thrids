{
  "nbformat": 4,
  "nbformat_minor": 0,
  "metadata": {
    "colab": {
      "provenance": [],
      "authorship_tag": "ABX9TyNU30wIqALZ3H8OfxqnuJ+F",
      "include_colab_link": true
    },
    "kernelspec": {
      "name": "python3",
      "display_name": "Python 3"
    },
    "language_info": {
      "name": "python"
    }
  },
  "cells": [
    {
      "cell_type": "markdown",
      "metadata": {
        "id": "view-in-github",
        "colab_type": "text"
      },
      "source": [
        "<a href=\"https://colab.research.google.com/github/scvgong/study_temps_thrids/blob/main/if_elif_else_quest_gongmyeongyun.ipynb\" target=\"_parent\"><img src=\"https://colab.research.google.com/assets/colab-badge.svg\" alt=\"Open In Colab\"/></a>"
      ]
    },
    {
      "cell_type": "code",
      "execution_count": 27,
      "metadata": {
        "colab": {
          "base_uri": "https://localhost:8080/"
        },
        "id": "j6-ijIH5xMyQ",
        "outputId": "20f57e6a-715e-4f02-8f9e-04b43632280e"
      },
      "outputs": [
        {
          "output_type": "stream",
          "name": "stdout",
          "text": [
            "B학점\n"
          ]
        }
      ],
      "source": [
        "score = 83\n",
        "\n",
        "if(score >= 90) :\n",
        "  print(\"A학점\")\n",
        "  pass\n",
        "elif(80 <= score < 90) :\n",
        "  print(\"B학점\")\n",
        "  pass\n",
        "elif(70 <= score < 80) :\n",
        "  print(\"C학점\")\n",
        "  pass\n",
        "elif(60 <= score < 70) :\n",
        "  print(\"D학점\")\n",
        "  pass\n",
        "else :\n",
        "  print(\"F학점\")\n",
        "  pass\n",
        "\n"
      ]
    }
  ]
}
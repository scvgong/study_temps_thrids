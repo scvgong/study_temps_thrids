{
  "nbformat": 4,
  "nbformat_minor": 0,
  "metadata": {
    "colab": {
      "provenance": [],
      "authorship_tag": "ABX9TyOLANvQ5vfOjMmxafdAFLVC",
      "include_colab_link": true
    },
    "kernelspec": {
      "name": "python3",
      "display_name": "Python 3"
    },
    "language_info": {
      "name": "python"
    }
  },
  "cells": [
    {
      "cell_type": "markdown",
      "metadata": {
        "id": "view-in-github",
        "colab_type": "text"
      },
      "source": [
        "<a href=\"https://colab.research.google.com/github/scvgong/study_temps_thrids/blob/main/if_else_quest_gongmyeongyun.ipynb\" target=\"_parent\"><img src=\"https://colab.research.google.com/assets/colab-badge.svg\" alt=\"Open In Colab\"/></a>"
      ]
    },
    {
      "cell_type": "code",
      "execution_count": 4,
      "metadata": {
        "colab": {
          "base_uri": "https://localhost:8080/"
        },
        "id": "C8YQ347mZ3eY",
        "outputId": "2eef8861-c4ff-4193-f4c3-dc0d79533377"
      },
      "outputs": [
        {
          "output_type": "stream",
          "name": "stdout",
          "text": [
            "오른쪽\n",
            "프로그램 종료\n"
          ]
        }
      ],
      "source": [
        "load = 1\n",
        "if (load < 1) :\n",
        "  pass\n",
        "  print(\"왼쪽\")\n",
        "else :\n",
        "  pass\n",
        "  print(\"오른쪽\")\n",
        "\n",
        "print(\"프로그램 종료\")"
      ]
    },
    {
      "cell_type": "code",
      "source": [],
      "metadata": {
        "id": "NY3SBQBmbeaG"
      },
      "execution_count": null,
      "outputs": []
    }
  ]
}